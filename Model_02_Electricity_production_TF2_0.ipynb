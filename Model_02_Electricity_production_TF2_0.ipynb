{
  "nbformat": 4,
  "nbformat_minor": 0,
  "metadata": {
    "colab": {
      "name": "Model_02_Electricity_production_TF2.0.ipynb",
      "provenance": [],
      "authorship_tag": "ABX9TyOZL1olb661/fRHuYwr9Y1F",
      "include_colab_link": true
    },
    "kernelspec": {
      "name": "python3",
      "display_name": "Python 3"
    }
  },
  "cells": [
    {
      "cell_type": "markdown",
      "metadata": {
        "id": "view-in-github",
        "colab_type": "text"
      },
      "source": [
        "<a href=\"https://colab.research.google.com/github/thunder1234x/Depp-Learning-Model-TENSORFLOW-2.X-/blob/main/Model_02_Electricity_production_TF2_0.ipynb\" target=\"_parent\"><img src=\"https://colab.research.google.com/assets/colab-badge.svg\" alt=\"Open In Colab\"/></a>"
      ]
    },
    {
      "cell_type": "code",
      "metadata": {
        "colab": {
          "base_uri": "https://localhost:8080/"
        },
        "id": "EhSowXTfjIsM",
        "outputId": "409e3a43-45a8-436b-ed08-4fd884e35523"
      },
      "source": [
        "%tensorflow_version 2.x\r\n",
        "import tensorflow as tf\r\n",
        "print(tf.version)"
      ],
      "execution_count": 1,
      "outputs": [
        {
          "output_type": "stream",
          "text": [
            "<module 'tensorflow._api.v2.version' from '/usr/local/lib/python3.6/dist-packages/tensorflow/_api/v2/version/__init__.py'>\n"
          ],
          "name": "stdout"
        }
      ]
    },
    {
      "cell_type": "code",
      "metadata": {
        "id": "OgsmRQR6jWXw"
      },
      "source": [
        "import pandas as pd\r\n",
        "import numpy as np\r\n",
        "import matplotlib.pyplot as plt\r\n",
        "import seaborn as sns"
      ],
      "execution_count": 2,
      "outputs": []
    },
    {
      "cell_type": "code",
      "metadata": {
        "colab": {
          "resources": {
            "http://localhost:8080/nbextensions/google.colab/files.js": {
              "data": "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",
              "ok": true,
              "headers": [
                [
                  "content-type",
                  "application/javascript"
                ]
              ],
              "status": 200,
              "status_text": ""
            }
          },
          "base_uri": "https://localhost:8080/",
          "height": 72
        },
        "id": "drlyJDAijYia",
        "outputId": "26975b4a-fa68-4ce4-cf91-d9f1fb187e53"
      },
      "source": [
        "from google.colab import files \r\n",
        "uploaded = files.upload()"
      ],
      "execution_count": 4,
      "outputs": [
        {
          "output_type": "display_data",
          "data": {
            "text/html": [
              "\n",
              "     <input type=\"file\" id=\"files-86400ee2-3895-4097-8d4d-5659fa091580\" name=\"files[]\" multiple disabled\n",
              "        style=\"border:none\" />\n",
              "     <output id=\"result-86400ee2-3895-4097-8d4d-5659fa091580\">\n",
              "      Upload widget is only available when the cell has been executed in the\n",
              "      current browser session. Please rerun this cell to enable.\n",
              "      </output>\n",
              "      <script src=\"/nbextensions/google.colab/files.js\"></script> "
            ],
            "text/plain": [
              "<IPython.core.display.HTML object>"
            ]
          },
          "metadata": {
            "tags": []
          }
        },
        {
          "output_type": "stream",
          "text": [
            "Saving Electricity_production.csv to Electricity_production.csv\n"
          ],
          "name": "stdout"
        }
      ]
    },
    {
      "cell_type": "code",
      "metadata": {
        "id": "cTtKndpHja1_"
      },
      "source": [
        "df=pd.read_csv('Electricity_production.csv')"
      ],
      "execution_count": 5,
      "outputs": []
    },
    {
      "cell_type": "code",
      "metadata": {
        "colab": {
          "base_uri": "https://localhost:8080/",
          "height": 204
        },
        "id": "tbCyZ7JUlY-F",
        "outputId": "dec7c572-dddc-42a1-c79d-804317224615"
      },
      "source": [
        "df.head()  #target is Electricity_produce per hour"
      ],
      "execution_count": 6,
      "outputs": [
        {
          "output_type": "execute_result",
          "data": {
            "text/html": [
              "<div>\n",
              "<style scoped>\n",
              "    .dataframe tbody tr th:only-of-type {\n",
              "        vertical-align: middle;\n",
              "    }\n",
              "\n",
              "    .dataframe tbody tr th {\n",
              "        vertical-align: top;\n",
              "    }\n",
              "\n",
              "    .dataframe thead th {\n",
              "        text-align: right;\n",
              "    }\n",
              "</style>\n",
              "<table border=\"1\" class=\"dataframe\">\n",
              "  <thead>\n",
              "    <tr style=\"text-align: right;\">\n",
              "      <th></th>\n",
              "      <th>Temparature</th>\n",
              "      <th>Vaccume</th>\n",
              "      <th>Pressure</th>\n",
              "      <th>Humidity</th>\n",
              "      <th>Electricity_produce</th>\n",
              "    </tr>\n",
              "  </thead>\n",
              "  <tbody>\n",
              "    <tr>\n",
              "      <th>0</th>\n",
              "      <td>8.34</td>\n",
              "      <td>40.77</td>\n",
              "      <td>1010.84</td>\n",
              "      <td>90.01</td>\n",
              "      <td>480.48</td>\n",
              "    </tr>\n",
              "    <tr>\n",
              "      <th>1</th>\n",
              "      <td>23.64</td>\n",
              "      <td>58.49</td>\n",
              "      <td>1011.40</td>\n",
              "      <td>74.20</td>\n",
              "      <td>445.75</td>\n",
              "    </tr>\n",
              "    <tr>\n",
              "      <th>2</th>\n",
              "      <td>29.74</td>\n",
              "      <td>56.90</td>\n",
              "      <td>1007.15</td>\n",
              "      <td>41.91</td>\n",
              "      <td>438.76</td>\n",
              "    </tr>\n",
              "    <tr>\n",
              "      <th>3</th>\n",
              "      <td>19.07</td>\n",
              "      <td>49.69</td>\n",
              "      <td>1007.22</td>\n",
              "      <td>76.79</td>\n",
              "      <td>453.09</td>\n",
              "    </tr>\n",
              "    <tr>\n",
              "      <th>4</th>\n",
              "      <td>11.80</td>\n",
              "      <td>40.66</td>\n",
              "      <td>1017.13</td>\n",
              "      <td>97.20</td>\n",
              "      <td>464.43</td>\n",
              "    </tr>\n",
              "  </tbody>\n",
              "</table>\n",
              "</div>"
            ],
            "text/plain": [
              "   Temparature  Vaccume  Pressure  Humidity  Electricity_produce\n",
              "0         8.34    40.77   1010.84     90.01               480.48\n",
              "1        23.64    58.49   1011.40     74.20               445.75\n",
              "2        29.74    56.90   1007.15     41.91               438.76\n",
              "3        19.07    49.69   1007.22     76.79               453.09\n",
              "4        11.80    40.66   1017.13     97.20               464.43"
            ]
          },
          "metadata": {
            "tags": []
          },
          "execution_count": 6
        }
      ]
    },
    {
      "cell_type": "code",
      "metadata": {
        "colab": {
          "base_uri": "https://localhost:8080/"
        },
        "id": "JHCM60OrlbFL",
        "outputId": "15a0f7a4-6f2c-4c18-d959-671ad9072030"
      },
      "source": [
        "df.shape"
      ],
      "execution_count": 38,
      "outputs": [
        {
          "output_type": "execute_result",
          "data": {
            "text/plain": [
              "(9568, 5)"
            ]
          },
          "metadata": {
            "tags": []
          },
          "execution_count": 38
        }
      ]
    },
    {
      "cell_type": "code",
      "metadata": {
        "colab": {
          "base_uri": "https://localhost:8080/",
          "height": 372
        },
        "id": "6viH84x8mEor",
        "outputId": "c5f48ffb-cf5b-4d95-82b7-aacc4ccdec8e"
      },
      "source": [
        "sns.heatmap(df.corr() , annot=True)"
      ],
      "execution_count": 9,
      "outputs": [
        {
          "output_type": "execute_result",
          "data": {
            "text/plain": [
              "<matplotlib.axes._subplots.AxesSubplot at 0x7f01c1a1a7b8>"
            ]
          },
          "metadata": {
            "tags": []
          },
          "execution_count": 9
        },
        {
          "output_type": "display_data",
          "data": {
            "image/png": "[encoded data removed]",
            "text/plain": [
              "<Figure size 432x288 with 2 Axes>"
            ]
          },
          "metadata": {
            "tags": [],
            "needs_background": "light"
          }
        }
      ]
    },
    {
      "cell_type": "code",
      "metadata": {
        "colab": {
          "base_uri": "https://localhost:8080/",
          "height": 350
        },
        "id": "YkIyd858nK07",
        "outputId": "5568cf66-7eb7-4761-ed9c-97ff5ebda471"
      },
      "source": [
        "sns.scatterplot(df.Temparature , df.Electricity_produce)"
      ],
      "execution_count": 10,
      "outputs": [
        {
          "output_type": "stream",
          "text": [
            "/usr/local/lib/python3.6/dist-packages/seaborn/_decorators.py:43: FutureWarning: Pass the following variables as keyword args: x, y. From version 0.12, the only valid positional argument will be `data`, and passing other arguments without an explicit keyword will result in an error or misinterpretation.\n",
            "  FutureWarning\n"
          ],
          "name": "stderr"
        },
        {
          "output_type": "execute_result",
          "data": {
            "text/plain": [
              "<matplotlib.axes._subplots.AxesSubplot at 0x7f01c44e8748>"
            ]
          },
          "metadata": {
            "tags": []
          },
          "execution_count": 10
        },
        {
          "output_type": "display_data",
          "data": {
            "image/png": "[encoded data removed]",
            "text/plain": [
              "<Figure size 432x288 with 1 Axes>"
            ]
          },
          "metadata": {
            "tags": [],
            "needs_background": "light"
          }
        }
      ]
    },
    {
      "cell_type": "code",
      "metadata": {
        "colab": {
          "base_uri": "https://localhost:8080/",
          "height": 333
        },
        "id": "hvNWSqjnnqZ1",
        "outputId": "6d28d428-a2e9-4103-957f-400c00f6cdc6"
      },
      "source": [
        "plt.subplot(2,3,1)\r\n",
        "sns.distplot(df.Temparature)\r\n",
        "plt.subplot(2,3,2)\r\n",
        "sns.boxplot(x=df.Temparature)\r\n",
        "plt.subplot(2,3,3)\r\n",
        "sns.boxplot(x=df.Vaccume)\r\n",
        "plt.subplot(2,3,4)\r\n",
        "sns.boxplot(x=df.Pressure)\r\n",
        "plt.subplot(2,3,5)\r\n",
        "sns.boxplot(x=df.Humidity)\r\n",
        "\r\n",
        "plt.show()"
      ],
      "execution_count": 23,
      "outputs": [
        {
          "output_type": "stream",
          "text": [
            "/usr/local/lib/python3.6/dist-packages/seaborn/distributions.py:2551: FutureWarning: `distplot` is a deprecated function and will be removed in a future version. Please adapt your code to use either `displot` (a figure-level function with similar flexibility) or `histplot` (an axes-level function for histograms).\n",
            "  warnings.warn(msg, FutureWarning)\n"
          ],
          "name": "stderr"
        },
        {
          "output_type": "display_data",
          "data": {
            "image/png": "[encoded data removed]",
            "text/plain": [
              "<Figure size 432x288 with 5 Axes>"
            ]
          },
          "metadata": {
            "tags": [],
            "needs_background": "light"
          }
        }
      ]
    },
    {
      "cell_type": "code",
      "metadata": {
        "colab": {
          "base_uri": "https://localhost:8080/",
          "height": 271
        },
        "id": "mSL4JN5en-sM",
        "outputId": "827edbfd-28bc-4066-8d2c-ff2e6d3985fb"
      },
      "source": [
        "sns.boxplot(y=df['Pressure'])"
      ],
      "execution_count": 20,
      "outputs": [
        {
          "output_type": "execute_result",
          "data": {
            "text/plain": [
              "<matplotlib.axes._subplots.AxesSubplot at 0x7f01bd3bfd68>"
            ]
          },
          "metadata": {
            "tags": []
          },
          "execution_count": 20
        },
        {
          "output_type": "display_data",
          "data": {
            "image/png": "[encoded data removed]",
            "text/plain": [
              "<Figure size 432x288 with 1 Axes>"
            ]
          },
          "metadata": {
            "tags": [],
            "needs_background": "light"
          }
        }
      ]
    },
    {
      "cell_type": "code",
      "metadata": {
        "id": "4oDb8IwQpaBk"
      },
      "source": [
        "df2=df[df.Pressure<1030]\r\n",
        "df2=df[df.Pressure>999]"
      ],
      "execution_count": 30,
      "outputs": []
    },
    {
      "cell_type": "code",
      "metadata": {
        "colab": {
          "base_uri": "https://localhost:8080/",
          "height": 273
        },
        "id": "wEjn_3AHp8No",
        "outputId": "448d8d73-cfd6-45ff-c780-c9271ecb52b4"
      },
      "source": [
        "sns.boxplot(y=df2['Pressure'])"
      ],
      "execution_count": 31,
      "outputs": [
        {
          "output_type": "execute_result",
          "data": {
            "text/plain": [
              "<matplotlib.axes._subplots.AxesSubplot at 0x7f01bd092fd0>"
            ]
          },
          "metadata": {
            "tags": []
          },
          "execution_count": 31
        },
        {
          "output_type": "display_data",
          "data": {
            "image/png": "[encoded data removed]",
            "text/plain": [
              "<Figure size 432x288 with 1 Axes>"
            ]
          },
          "metadata": {
            "tags": [],
            "needs_background": "light"
          }
        }
      ]
    },
    {
      "cell_type": "code",
      "metadata": {
        "colab": {
          "base_uri": "https://localhost:8080/",
          "height": 296
        },
        "id": "Jfc1X5B8qwT1",
        "outputId": "93644c8f-38cb-4b56-9342-d06b834415a4"
      },
      "source": [
        "sns.boxplot(x=df.Humidity)"
      ],
      "execution_count": 33,
      "outputs": [
        {
          "output_type": "execute_result",
          "data": {
            "text/plain": [
              "<matplotlib.axes._subplots.AxesSubplot at 0x7f01bcffd4e0>"
            ]
          },
          "metadata": {
            "tags": []
          },
          "execution_count": 33
        },
        {
          "output_type": "display_data",
          "data": {
            "image/png": "[encoded data removed]",
            "text/plain": [
              "<Figure size 432x288 with 1 Axes>"
            ]
          },
          "metadata": {
            "tags": [],
            "needs_background": "light"
          }
        }
      ]
    },
    {
      "cell_type": "code",
      "metadata": {
        "id": "lRVbRmxirGMQ"
      },
      "source": [
        "df3=df2[df2.Humidity>32]"
      ],
      "execution_count": 35,
      "outputs": []
    },
    {
      "cell_type": "code",
      "metadata": {
        "colab": {
          "base_uri": "https://localhost:8080/"
        },
        "id": "4nXC3SzErQBR",
        "outputId": "d3ab263a-b88c-4c16-a426-358054b05645"
      },
      "source": [
        "df3.Humidity.describe()  , df3.shape"
      ],
      "execution_count": 37,
      "outputs": [
        {
          "output_type": "execute_result",
          "data": {
            "text/plain": [
              "(count    9513.000000\n",
              " mean       73.349460\n",
              " std        14.481337\n",
              " min        32.190000\n",
              " 25%        63.370000\n",
              " 50%        74.980000\n",
              " 75%        84.820000\n",
              " max       100.160000\n",
              " Name: Humidity, dtype: float64, (9513, 5))"
            ]
          },
          "metadata": {
            "tags": []
          },
          "execution_count": 37
        }
      ]
    },
    {
      "cell_type": "code",
      "metadata": {
        "id": "PojcxUjSrbpW"
      },
      "source": [
        "X=df3.drop(columns=['Electricity_produce'])\r\n",
        "y=df3.Electricity_produce"
      ],
      "execution_count": 39,
      "outputs": []
    },
    {
      "cell_type": "code",
      "metadata": {
        "id": "EDXIjATdrrw1"
      },
      "source": [
        "from sklearn.model_selection import train_test_split"
      ],
      "execution_count": 40,
      "outputs": []
    },
    {
      "cell_type": "code",
      "metadata": {
        "id": "OOJ8lWN_rwTb"
      },
      "source": [
        "X_train, X_test, y_train, y_test=train_test_split(X,y,test_size=0.2,random_state=0)"
      ],
      "execution_count": 42,
      "outputs": []
    },
    {
      "cell_type": "code",
      "metadata": {
        "id": "FM46M1Hes1PD"
      },
      "source": [
        "from sklearn.preprocessing import StandardScaler"
      ],
      "execution_count": 44,
      "outputs": []
    },
    {
      "cell_type": "code",
      "metadata": {
        "colab": {
          "base_uri": "https://localhost:8080/"
        },
        "id": "NDWuV-eMs95T",
        "outputId": "f2a0be19-ee8f-4e6f-f901-7fd6cc26d0e2"
      },
      "source": [
        "sc=StandardScaler()\r\n",
        "sc.fit(X_train)"
      ],
      "execution_count": 45,
      "outputs": [
        {
          "output_type": "execute_result",
          "data": {
            "text/plain": [
              "StandardScaler(copy=True, with_mean=True, with_std=True)"
            ]
          },
          "metadata": {
            "tags": []
          },
          "execution_count": 45
        }
      ]
    },
    {
      "cell_type": "code",
      "metadata": {
        "id": "oJr4zEi6tE4Z"
      },
      "source": [
        "X_train=sc.transform(X_train)\r\n",
        "X_test=sc.transform(X_test)"
      ],
      "execution_count": 46,
      "outputs": []
    },
    {
      "cell_type": "code",
      "metadata": {
        "id": "oNSzme-4r8zv"
      },
      "source": [
        "ann=tf.keras.Sequential()"
      ],
      "execution_count": 43,
      "outputs": []
    },
    {
      "cell_type": "code",
      "metadata": {
        "id": "fMamccpHsjnq"
      },
      "source": [
        "ann.add(tf.keras.layers.Dense(units=6,activation='relu'))\r\n",
        "ann.add(tf.keras.layers.Dense(units=6,activation='relu'))"
      ],
      "execution_count": 47,
      "outputs": []
    },
    {
      "cell_type": "code",
      "metadata": {
        "id": "SmGzeNGQuzAd"
      },
      "source": [
        "ann.add(tf.keras.layers.Dense(units=1))"
      ],
      "execution_count": 48,
      "outputs": []
    },
    {
      "cell_type": "code",
      "metadata": {
        "id": "NJ4f0PbivWXt"
      },
      "source": [
        "ann.compile(optimizer='adam',loss='mean_squared_error')"
      ],
      "execution_count": 49,
      "outputs": []
    },
    {
      "cell_type": "code",
      "metadata": {
        "colab": {
          "base_uri": "https://localhost:8080/"
        },
        "id": "KfGjTrHDwoFJ",
        "outputId": "8b9b3875-3ef5-4791-d3ec-ceadd1b5cebd"
      },
      "source": [
        "ann.fit(X_train,y_train ,  epochs=100)"
      ],
      "execution_count": 51,
      "outputs": [
        {
          "output_type": "stream",
          "text": [
            "Epoch 1/100\n",
            "238/238 [==============================] - 0s 1ms/step - loss: 194063.0938\n",
            "Epoch 2/100\n",
            "238/238 [==============================] - 0s 1ms/step - loss: 167562.1875\n",
            "Epoch 3/100\n",
            "238/238 [==============================] - 0s 1ms/step - loss: 129908.8203\n",
            "Epoch 4/100\n",
            "238/238 [==============================] - 0s 1ms/step - loss: 95935.3906\n",
            "Epoch 5/100\n",
            "238/238 [==============================] - 0s 998us/step - loss: 72072.2734\n",
            "Epoch 6/100\n",
            "238/238 [==============================] - 0s 1ms/step - loss: 52712.1289\n",
            "Epoch 7/100\n",
            "238/238 [==============================] - 0s 1ms/step - loss: 34708.5234\n",
            "Epoch 8/100\n",
            "238/238 [==============================] - 0s 1ms/step - loss: 19817.1484\n",
            "Epoch 9/100\n",
            "238/238 [==============================] - 0s 1ms/step - loss: 10252.2520\n",
            "Epoch 10/100\n",
            "238/238 [==============================] - 0s 1ms/step - loss: 5849.8237\n",
            "Epoch 11/100\n",
            "238/238 [==============================] - 0s 986us/step - loss: 4067.9019\n",
            "Epoch 12/100\n",
            "238/238 [==============================] - 0s 1ms/step - loss: 3007.5632\n",
            "Epoch 13/100\n",
            "238/238 [==============================] - 0s 1ms/step - loss: 2268.0815\n",
            "Epoch 14/100\n",
            "238/238 [==============================] - 0s 1ms/step - loss: 1762.9994\n",
            "Epoch 15/100\n",
            "238/238 [==============================] - 0s 982us/step - loss: 1412.1394\n",
            "Epoch 16/100\n",
            "238/238 [==============================] - 0s 977us/step - loss: 1153.5613\n",
            "Epoch 17/100\n",
            "238/238 [==============================] - 0s 1ms/step - loss: 952.9236\n",
            "Epoch 18/100\n",
            "238/238 [==============================] - 0s 996us/step - loss: 787.7504\n",
            "Epoch 19/100\n",
            "238/238 [==============================] - 0s 1ms/step - loss: 649.4768\n",
            "Epoch 20/100\n",
            "238/238 [==============================] - 0s 1ms/step - loss: 532.4557\n",
            "Epoch 21/100\n",
            "238/238 [==============================] - 0s 1ms/step - loss: 433.9698\n",
            "Epoch 22/100\n",
            "238/238 [==============================] - 0s 989us/step - loss: 350.5699\n",
            "Epoch 23/100\n",
            "238/238 [==============================] - 0s 1ms/step - loss: 281.1566\n",
            "Epoch 24/100\n",
            "238/238 [==============================] - 0s 1ms/step - loss: 224.2551\n",
            "Epoch 25/100\n",
            "238/238 [==============================] - 0s 1ms/step - loss: 177.4241\n",
            "Epoch 26/100\n",
            "238/238 [==============================] - 0s 1ms/step - loss: 139.8988\n",
            "Epoch 27/100\n",
            "238/238 [==============================] - 0s 1ms/step - loss: 109.9817\n",
            "Epoch 28/100\n",
            "238/238 [==============================] - 0s 997us/step - loss: 86.6641\n",
            "Epoch 29/100\n",
            "238/238 [==============================] - 0s 1ms/step - loss: 69.0418\n",
            "Epoch 30/100\n",
            "238/238 [==============================] - 0s 1ms/step - loss: 55.5738\n",
            "Epoch 31/100\n",
            "238/238 [==============================] - 0s 1ms/step - loss: 45.7110\n",
            "Epoch 32/100\n",
            "238/238 [==============================] - 0s 1ms/step - loss: 38.3606\n",
            "Epoch 33/100\n",
            "238/238 [==============================] - 0s 1ms/step - loss: 32.7746\n",
            "Epoch 34/100\n",
            "238/238 [==============================] - 0s 1ms/step - loss: 28.8185\n",
            "Epoch 35/100\n",
            "238/238 [==============================] - 0s 1ms/step - loss: 25.8649\n",
            "Epoch 36/100\n",
            "238/238 [==============================] - 0s 997us/step - loss: 23.7459\n",
            "Epoch 37/100\n",
            "238/238 [==============================] - 0s 1ms/step - loss: 22.1887\n",
            "Epoch 38/100\n",
            "238/238 [==============================] - 0s 1ms/step - loss: 21.1154\n",
            "Epoch 39/100\n",
            "238/238 [==============================] - 0s 983us/step - loss: 20.4217\n",
            "Epoch 40/100\n",
            "238/238 [==============================] - 0s 1ms/step - loss: 19.8145\n",
            "Epoch 41/100\n",
            "238/238 [==============================] - 0s 1ms/step - loss: 19.4974\n",
            "Epoch 42/100\n",
            "238/238 [==============================] - 0s 1ms/step - loss: 19.4067\n",
            "Epoch 43/100\n",
            "238/238 [==============================] - 0s 1ms/step - loss: 19.1540\n",
            "Epoch 44/100\n",
            "238/238 [==============================] - 0s 1ms/step - loss: 19.0387\n",
            "Epoch 45/100\n",
            "238/238 [==============================] - 0s 1ms/step - loss: 18.9996\n",
            "Epoch 46/100\n",
            "238/238 [==============================] - 0s 1ms/step - loss: 18.9528\n",
            "Epoch 47/100\n",
            "238/238 [==============================] - 0s 1ms/step - loss: 19.0257\n",
            "Epoch 48/100\n",
            "238/238 [==============================] - 0s 1ms/step - loss: 18.8526\n",
            "Epoch 49/100\n",
            "238/238 [==============================] - 0s 1ms/step - loss: 18.9408\n",
            "Epoch 50/100\n",
            "238/238 [==============================] - 0s 1ms/step - loss: 18.9005\n",
            "Epoch 51/100\n",
            "238/238 [==============================] - 0s 1ms/step - loss: 18.8251\n",
            "Epoch 52/100\n",
            "238/238 [==============================] - 0s 1ms/step - loss: 18.7359\n",
            "Epoch 53/100\n",
            "238/238 [==============================] - 0s 996us/step - loss: 18.7314\n",
            "Epoch 54/100\n",
            "238/238 [==============================] - 0s 1ms/step - loss: 18.7255\n",
            "Epoch 55/100\n",
            "238/238 [==============================] - 0s 983us/step - loss: 18.7789\n",
            "Epoch 56/100\n",
            "238/238 [==============================] - 0s 1ms/step - loss: 18.5957\n",
            "Epoch 57/100\n",
            "238/238 [==============================] - 0s 993us/step - loss: 18.6736\n",
            "Epoch 58/100\n",
            "238/238 [==============================] - 0s 1ms/step - loss: 18.6951\n",
            "Epoch 59/100\n",
            "238/238 [==============================] - 0s 959us/step - loss: 18.7238\n",
            "Epoch 60/100\n",
            "238/238 [==============================] - 0s 1ms/step - loss: 18.7280\n",
            "Epoch 61/100\n",
            "238/238 [==============================] - 0s 1ms/step - loss: 18.7277\n",
            "Epoch 62/100\n",
            "238/238 [==============================] - 0s 1ms/step - loss: 18.7125\n",
            "Epoch 63/100\n",
            "238/238 [==============================] - 0s 1ms/step - loss: 18.6408\n",
            "Epoch 64/100\n",
            "238/238 [==============================] - 0s 1ms/step - loss: 18.7854\n",
            "Epoch 65/100\n",
            "238/238 [==============================] - 0s 989us/step - loss: 18.7823\n",
            "Epoch 66/100\n",
            "238/238 [==============================] - 0s 1ms/step - loss: 18.6549\n",
            "Epoch 67/100\n",
            "238/238 [==============================] - 0s 1ms/step - loss: 18.7072\n",
            "Epoch 68/100\n",
            "238/238 [==============================] - 0s 1ms/step - loss: 18.6750\n",
            "Epoch 69/100\n",
            "238/238 [==============================] - 0s 967us/step - loss: 18.7293\n",
            "Epoch 70/100\n",
            "238/238 [==============================] - 0s 1ms/step - loss: 18.5946\n",
            "Epoch 71/100\n",
            "238/238 [==============================] - 0s 1ms/step - loss: 18.6664\n",
            "Epoch 72/100\n",
            "238/238 [==============================] - 0s 1ms/step - loss: 18.6785\n",
            "Epoch 73/100\n",
            "238/238 [==============================] - 0s 1ms/step - loss: 18.6028\n",
            "Epoch 74/100\n",
            "238/238 [==============================] - 0s 1ms/step - loss: 18.6618\n",
            "Epoch 75/100\n",
            "238/238 [==============================] - 0s 998us/step - loss: 18.6355\n",
            "Epoch 76/100\n",
            "238/238 [==============================] - 0s 1ms/step - loss: 18.6906\n",
            "Epoch 77/100\n",
            "238/238 [==============================] - 0s 1ms/step - loss: 18.6721\n",
            "Epoch 78/100\n",
            "238/238 [==============================] - 0s 1ms/step - loss: 18.6759\n",
            "Epoch 79/100\n",
            "238/238 [==============================] - 0s 1ms/step - loss: 18.6031\n",
            "Epoch 80/100\n",
            "238/238 [==============================] - 0s 1ms/step - loss: 18.5914\n",
            "Epoch 81/100\n",
            "238/238 [==============================] - 0s 1ms/step - loss: 18.8670\n",
            "Epoch 82/100\n",
            "238/238 [==============================] - 0s 1ms/step - loss: 18.8213\n",
            "Epoch 83/100\n",
            "238/238 [==============================] - 0s 1ms/step - loss: 18.6798\n",
            "Epoch 84/100\n",
            "238/238 [==============================] - 0s 1ms/step - loss: 18.7523\n",
            "Epoch 85/100\n",
            "238/238 [==============================] - 0s 1ms/step - loss: 18.6404\n",
            "Epoch 86/100\n",
            "238/238 [==============================] - 0s 1ms/step - loss: 18.6978\n",
            "Epoch 87/100\n",
            "238/238 [==============================] - 0s 1ms/step - loss: 18.6126\n",
            "Epoch 88/100\n",
            "238/238 [==============================] - 0s 1ms/step - loss: 18.7168\n",
            "Epoch 89/100\n",
            "238/238 [==============================] - 0s 1ms/step - loss: 18.5372\n",
            "Epoch 90/100\n",
            "238/238 [==============================] - 0s 1ms/step - loss: 18.6401\n",
            "Epoch 91/100\n",
            "238/238 [==============================] - 0s 1ms/step - loss: 18.6585\n",
            "Epoch 92/100\n",
            "238/238 [==============================] - 0s 1ms/step - loss: 18.7577\n",
            "Epoch 93/100\n",
            "238/238 [==============================] - 0s 1ms/step - loss: 18.6428\n",
            "Epoch 94/100\n",
            "238/238 [==============================] - 0s 1ms/step - loss: 18.7177\n",
            "Epoch 95/100\n",
            "238/238 [==============================] - 0s 1ms/step - loss: 18.7959\n",
            "Epoch 96/100\n",
            "238/238 [==============================] - 0s 1ms/step - loss: 18.6296\n",
            "Epoch 97/100\n",
            "238/238 [==============================] - 0s 1ms/step - loss: 18.7092\n",
            "Epoch 98/100\n",
            "238/238 [==============================] - 0s 1ms/step - loss: 18.6149\n",
            "Epoch 99/100\n",
            "238/238 [==============================] - 0s 1ms/step - loss: 18.7051\n",
            "Epoch 100/100\n",
            "238/238 [==============================] - 0s 1ms/step - loss: 18.6088\n"
          ],
          "name": "stdout"
        },
        {
          "output_type": "execute_result",
          "data": {
            "text/plain": [
              "<tensorflow.python.keras.callbacks.History at 0x7f01b5eaa940>"
            ]
          },
          "metadata": {
            "tags": []
          },
          "execution_count": 51
        }
      ]
    },
    {
      "cell_type": "code",
      "metadata": {
        "colab": {
          "base_uri": "https://localhost:8080/"
        },
        "id": "L8y7NUOCw1-H",
        "outputId": "12a90d36-b58a-42bd-91c2-b706b550cba9"
      },
      "source": [
        "ann.evaluate(X_test,y_test)"
      ],
      "execution_count": 52,
      "outputs": [
        {
          "output_type": "stream",
          "text": [
            "60/60 [==============================] - 0s 743us/step - loss: 20.6486\n"
          ],
          "name": "stdout"
        },
        {
          "output_type": "execute_result",
          "data": {
            "text/plain": [
              "20.64861488342285"
            ]
          },
          "metadata": {
            "tags": []
          },
          "execution_count": 52
        }
      ]
    },
    {
      "cell_type": "code",
      "metadata": {
        "id": "f4OrP9vqx4ER"
      },
      "source": [
        "y_pred=ann.predict(X_test).ravel()"
      ],
      "execution_count": 55,
      "outputs": []
    },
    {
      "cell_type": "code",
      "metadata": {
        "colab": {
          "base_uri": "https://localhost:8080/"
        },
        "id": "34YzRaifyG0n",
        "outputId": "263bca69-024a-4b6a-95b6-737e5269bc5a"
      },
      "source": [
        "y_pred[0:10], y_test[0:10] , y_test.std()"
      ],
      "execution_count": 68,
      "outputs": [
        {
          "output_type": "execute_result",
          "data": {
            "text/plain": [
              "(array([431.8567 , 473.96024, 463.3651 , 468.48923, 437.13953, 465.11124,\n",
              "        450.5373 , 481.06348, 479.8636 , 477.5033 ], dtype=float32),\n",
              " 2949    434.01\n",
              " 9192    478.79\n",
              " 2395    462.69\n",
              " 6019    472.22\n",
              " 8901    435.17\n",
              " 8712    462.81\n",
              " 4966    446.18\n",
              " 2010    489.95\n",
              " 2864    471.43\n",
              " 5296    472.16\n",
              " Name: Electricity_produce, dtype: float64,\n",
              " 17.181343686830115)"
            ]
          },
          "metadata": {
            "tags": []
          },
          "execution_count": 68
        }
      ]
    },
    {
      "cell_type": "code",
      "metadata": {
        "colab": {
          "base_uri": "https://localhost:8080/",
          "height": 282
        },
        "id": "JZjYsaY-yIRK",
        "outputId": "1138f65b-980b-465d-ccd9-063e30b229f6"
      },
      "source": [
        "plt.plot(y_pred[0:10])"
      ],
      "execution_count": 62,
      "outputs": [
        {
          "output_type": "execute_result",
          "data": {
            "text/plain": [
              "[<matplotlib.lines.Line2D at 0x7f01bd552320>]"
            ]
          },
          "metadata": {
            "tags": []
          },
          "execution_count": 62
        },
        {
          "output_type": "display_data",
          "data": {
            "image/png": "[encoded data removed]",
            "text/plain": [
              "<Figure size 432x288 with 1 Axes>"
            ]
          },
          "metadata": {
            "tags": [],
            "needs_background": "light"
          }
        }
      ]
    },
    {
      "cell_type": "code",
      "metadata": {
        "colab": {
          "base_uri": "https://localhost:8080/",
          "height": 282
        },
        "id": "sekOX_rDyhOK",
        "outputId": "4b3a704a-7e1a-4f8d-9208-1a23d90219cd"
      },
      "source": [
        "plt.plot(y_test[0:10])"
      ],
      "execution_count": 63,
      "outputs": [
        {
          "output_type": "execute_result",
          "data": {
            "text/plain": [
              "[<matplotlib.lines.Line2D at 0x7f01bd4eac50>]"
            ]
          },
          "metadata": {
            "tags": []
          },
          "execution_count": 63
        },
        {
          "output_type": "display_data",
          "data": {
            "image/png": "[encoded data removed]",
            "text/plain": [
              "<Figure size 432x288 with 1 Axes>"
            ]
          },
          "metadata": {
            "tags": [],
            "needs_background": "light"
          }
        }
      ]
    },
    {
      "cell_type": "code",
      "metadata": {
        "id": "Y56RbsSpzSB6"
      },
      "source": [
        ""
      ],
      "execution_count": 64,
      "outputs": []
    }
  ]
}